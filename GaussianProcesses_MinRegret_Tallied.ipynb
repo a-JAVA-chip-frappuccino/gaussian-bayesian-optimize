{
 "cells": [
  {
   "cell_type": "code",
   "execution_count": 34,
   "metadata": {},
   "outputs": [],
   "source": [
    "# imports MatLab packages\n",
    "import numpy as np\n",
    "import matplotlib.pyplot as plt\n",
    "\n",
    "# imports Gaussian Processes package\n",
    "import GPy\n",
    "\n",
    "# imports randomization package\n",
    "import random\n",
    "\n",
    "# imports math package\n",
    "import math\n",
    "\n",
    "# imports mean squared error\n",
    "from sklearn.metrics import mean_squared_error\n",
    "\n",
    "# imports time\n",
    "import time"
   ]
  },
  {
   "cell_type": "code",
   "execution_count": 35,
   "metadata": {},
   "outputs": [],
   "source": [
    "# defintion of plotting utility to plot a GP fit with 95% confidence interval\n",
    "\n",
    "def plot_gp(X, m, C, training_points = None):\n",
    "    \n",
    "    # plot 95% confidence interval \n",
    "    plt.fill_between(X[:, 0],\n",
    "                     m[:, 0] - 1.96 * np.sqrt(np.diag(C)),\n",
    "                     m[:, 0] + 1.96 * np.sqrt(np.diag(C)),\n",
    "                     alpha = 0.5)\n",
    "    \n",
    "    # plot GP mean and initial training points\n",
    "    plt.plot(X, m, \"-\")\n",
    "    plt.legend(labels = [\"GP fit\"])\n",
    "    \n",
    "    plt.xlabel(\"x\"), plt.ylabel(\"f\")\n",
    "    \n",
    "    # plot training points if included\n",
    "    if training_points is not None:\n",
    "        X_, Y_ = training_points\n",
    "        plt.plot(X_, Y_, \"kx\", mew=2)\n",
    "        plt.legend(labels = [\"GP fit\", \"sample points\"])"
   ]
  },
  {
   "cell_type": "code",
   "execution_count": 36,
   "metadata": {},
   "outputs": [],
   "source": [
    "# defintion of function\n",
    "# sin(x - 0.25) + 0.7cos(x + 0.4x) + random_number\n",
    "\n",
    "def f(x):\n",
    "    return np.sin(x - 0.25) + 0.7 * np.cos(x + 0.4 * x) + np.random.normal(0.0, 0.5, x.shape)"
   ]
  },
  {
   "cell_type": "code",
   "execution_count": 37,
   "metadata": {},
   "outputs": [],
   "source": [
    "# creates x-axis of plot\n",
    "# initial: 0.0, final: 11.0, interval: 0.1\n",
    "\n",
    "x1 = np.arange(0.0, 11.0, 0.1)[:, None]"
   ]
  },
  {
   "cell_type": "code",
   "execution_count": 38,
   "metadata": {
    "scrolled": true
   },
   "outputs": [
    {
     "data": {
      "image/png": "[encoded data removed]",
      "text/plain": [
       "<Figure size 432x288 with 1 Axes>"
      ]
     },
     "metadata": {
      "needs_background": "light"
     },
     "output_type": "display_data"
    }
   ],
   "source": [
    "# prints plot\n",
    "\n",
    "plt.plot(x1, f(x1), 'r.')\n",
    "plt.show()"
   ]
  },
  {
   "cell_type": "code",
   "execution_count": 39,
   "metadata": {},
   "outputs": [
    {
     "data": {
      "text/plain": [
       "<paramz.optimization.optimization.opt_lbfgsb at 0x266ec41ee48>"
      ]
     },
     "execution_count": 39,
     "metadata": {},
     "output_type": "execute_result"
    }
   ],
   "source": [
    "# creates GP kernel\n",
    "# optimizes GP regression\n",
    "\n",
    "k = GPy.kern.RBF(1)\n",
    "m = GPy.models.GPRegression(x1, f(x1), k)\n",
    "m.optimize()"
   ]
  },
  {
   "cell_type": "code",
   "execution_count": 40,
   "metadata": {},
   "outputs": [],
   "source": [
    "# establishes mean, covariance, variance of plot\n",
    "\n",
    "mean, Cov = m.predict(x1, full_cov = True)\n",
    "mean, variance = m.predict(x1)"
   ]
  },
  {
   "cell_type": "code",
   "execution_count": 41,
   "metadata": {},
   "outputs": [
    {
     "data": {
      "text/html": [
       "<style type=\"text/css\">\n",
       ".pd{\n",
       "    font-family: \"Courier New\", Courier, monospace !important;\n",
       "    width: 100%;\n",
       "    padding: 3px;\n",
       "}\n",
       "</style>\n",
       "\n",
       "<p class=pd>\n",
       "<b>Model</b>: GP regression<br>\n",
       "<b>Objective</b>: 101.66677574730666<br>\n",
       "<b>Number of Parameters</b>: 3<br>\n",
       "<b>Number of Optimization Parameters</b>: 3<br>\n",
       "<b>Updates</b>: True<br>\n",
       "</p>\n",
       "<style type=\"text/css\">\n",
       ".tg  {font-family:\"Courier New\", Courier, monospace !important;padding:2px 3px;word-break:normal;border-collapse:collapse;border-spacing:0;border-color:#DCDCDC;margin:0px auto;width:100%;}\n",
       ".tg td{font-family:\"Courier New\", Courier, monospace !important;font-weight:bold;color:#444;background-color:#F7FDFA;border-style:solid;border-width:1px;overflow:hidden;word-break:normal;border-color:#DCDCDC;}\n",
       ".tg th{font-family:\"Courier New\", Courier, monospace !important;font-weight:normal;color:#fff;background-color:#26ADE4;border-style:solid;border-width:1px;overflow:hidden;word-break:normal;border-color:#DCDCDC;}\n",
       ".tg .tg-left{font-family:\"Courier New\", Courier, monospace !important;font-weight:normal;text-align:left;}\n",
       ".tg .tg-center{font-family:\"Courier New\", Courier, monospace !important;font-weight:normal;text-align:center;}\n",
       ".tg .tg-right{font-family:\"Courier New\", Courier, monospace !important;font-weight:normal;text-align:right;}\n",
       "</style>\n",
       "<table class=\"tg\"><tr><th><b>  GP_regression.         </b></th><th><b>              value</b></th><th><b>constraints</b></th><th><b>priors</b></th></tr>\n",
       "<tr><td class=tg-left>  rbf.variance           </td><td class=tg-right> 1.1078515418205963</td><td class=tg-center>    +ve    </td><td class=tg-center>      </td></tr>\n",
       "<tr><td class=tg-left>  rbf.lengthscale        </td><td class=tg-right>  1.470786396410264</td><td class=tg-center>    +ve    </td><td class=tg-center>      </td></tr>\n",
       "<tr><td class=tg-left>  Gaussian_noise.variance</td><td class=tg-right>0.28723402987250307</td><td class=tg-center>    +ve    </td><td class=tg-center>      </td></tr>\n",
       "</table>"
      ],
      "text/plain": [
       "<GPy.models.gp_regression.GPRegression at 0x266ec41e0f0>"
      ]
     },
     "execution_count": 41,
     "metadata": {},
     "output_type": "execute_result"
    },
    {
     "data": {
      "image/png": "[encoded data removed]",
      "text/plain": [
       "<Figure size 432x288 with 1 Axes>"
      ]
     },
     "metadata": {
      "needs_background": "light"
     },
     "output_type": "display_data"
    }
   ],
   "source": [
    "# prints mean, covariance\n",
    "# prints GP regression plot\n",
    "\n",
    "plot_gp(x1, mean, Cov, training_points = (x1, f(x1)))\n",
    "m"
   ]
  },
  {
   "cell_type": "markdown",
   "metadata": {},
   "source": [
    "# START QUESTIONABLE PART OF THE CODE"
   ]
  },
  {
   "cell_type": "code",
   "execution_count": 42,
   "metadata": {},
   "outputs": [],
   "source": [
    "# performs GP regression algorithm\n",
    "\n",
    "def GP_regression(measured_samples, total_samples, unmeasured_samples):\n",
    "    \n",
    "    # creates GP kernel\n",
    "    # optimizes GP regression\n",
    "    k2 = GPy.kern.RBF(1)\n",
    "    m2 = GPy.models.GPRegression(measured_samples[:,0][:,None], measured_samples[:,1][:,None], k2)\n",
    "    m2.optimize()\n",
    "\n",
    "    # establishes mean, covariance, variance of plot\n",
    "    mean, covariance = m2.predict(total_samples[:,0][:,None], full_cov = True)\n",
    "    mean, variance = m2.predict(total_samples[:,0][:,None])\n",
    "    mean_unmeasured, variance_unmeasured = m2.predict(unmeasured_samples[:,0][:,None])\n",
    "    mean_measured, variance_measured = m2.predict(measured_samples[:,0][:,None])\n",
    "\n",
    "    # print mean, covariance\n",
    "    # print GP regression plot\n",
    "    # plot_gp(total_samples[:,0][:,None], mean, covariance, training_points = (measured_samples[:,0], measured_samples[:,1]))\n",
    "    # plt.show()\n",
    "    return m2, mean_unmeasured, variance_unmeasured, mean # GP regression information"
   ]
  },
  {
   "cell_type": "code",
   "execution_count": 43,
   "metadata": {},
   "outputs": [],
   "source": [
    "var_lambda = 0.1"
   ]
  },
  {
   "cell_type": "code",
   "execution_count": 44,
   "metadata": {},
   "outputs": [],
   "source": [
    "# grabs index of maximum upper confidence bound for unmeasured_samples\n",
    "\n",
    "def get_upper_confidence_index(mean_unmeasured, variance_unmeasured, iteration):\n",
    "    beta = 2 * math.log(len(total_samples) * math.pow(iteration, 2) * math.pow(math.pi, 2) / (6 * var_lambda))\n",
    "    alpha = mean_unmeasured + math.sqrt(beta) * variance_unmeasured\n",
    "    \n",
    "    return alpha.argmax() # integer index"
   ]
  },
  {
   "cell_type": "code",
   "execution_count": 45,
   "metadata": {},
   "outputs": [],
   "source": [
    "# calculates minimum regret\n",
    "\n",
    "def get_min_regret(max_samples, measured_samples):\n",
    "    return max_samples - measured_samples.max() # float"
   ]
  },
  {
   "cell_type": "code",
   "execution_count": 46,
   "metadata": {},
   "outputs": [],
   "source": [
    "# plots mininmum regret\n",
    "\n",
    "def plot_min_regret(iteration, min_regret):\n",
    "    plt.title(\"Minimum Regret\")\n",
    "    plt.xlabel(\"Iteration\")\n",
    "    plt.ylabel(\"Minimum Regret\")\n",
    "    plt.plot(iteration, min_regret)\n",
    "    plt.show()"
   ]
  },
  {
   "cell_type": "code",
   "execution_count": 47,
   "metadata": {},
   "outputs": [],
   "source": [
    "# sampling from the GP\n",
    "\n",
    "k = GPy.kern.RBF(input_dim = 1, lengthscale = 0.2)\n",
    "\n",
    "X = np.linspace(0., 1., 500) # 500 points evenly spread over [0, 1]\n",
    "X = X[:, None] # reshape X to make it n * p\n",
    "\n",
    "mu = np.zeros((500)) # vector of the means\n",
    "C = k.K(X, X) # covariance matrix associated with inputs X\n",
    "\n",
    "# generate 20 separate samples from a Gaussian with mean mu and covariance C\n",
    "Z = np.random.multivariate_normal(mu, C, 1)"
   ]
  },
  {
   "cell_type": "code",
   "execution_count": 48,
   "metadata": {},
   "outputs": [],
   "source": [
    "row_iteration_counter = 0 # total rows of matrix"
   ]
  },
  {
   "cell_type": "code",
   "execution_count": 49,
   "metadata": {},
   "outputs": [],
   "source": [
    "row_iteration_total = 5\n",
    "\n",
    "columns_total = 101"
   ]
  },
  {
   "cell_type": "code",
   "execution_count": 50,
   "metadata": {},
   "outputs": [],
   "source": [
    "min_regret_array_total = np.zeros(shape = (row_iteration_total, columns_total))"
   ]
  },
  {
   "cell_type": "code",
   "execution_count": 51,
   "metadata": {},
   "outputs": [],
   "source": [
    "while row_iteration_counter < 5:\n",
    "\n",
    "    unmeasured_samples = x1\n",
    "    measured_samples = [] # empty array\n",
    "\n",
    "    # plot 10 random (prior) points\n",
    "\n",
    "    # establish all samples to be measured\n",
    "    y1 = f(x1)\n",
    "    total_samples = np.hstack((x1, y1))\n",
    "    unmeasured_samples = total_samples;\n",
    "\n",
    "    # take 10 random samples\n",
    "    L = np.shape(x1)[0]\n",
    "    indices_to_keep = np.random.permutation(L)[0:10] # randomizes all samples\n",
    "    measured_samples = unmeasured_samples[indices_to_keep, :]\n",
    "    unmeasured_samples = np.delete(unmeasured_samples, indices_to_keep, 0)\n",
    "\n",
    "    # builds plot\n",
    "    plt.title(\"Initial Random Samples\")\n",
    "    plt.plot(measured_samples[:, 0], measured_samples[:, 1], 'r.')\n",
    "    plt.show()\n",
    "\n",
    "    iteration_counter_1 = 1 # initialized to 1 to account for logarithmic function\n",
    "\n",
    "    iteration_counter_0_array = None # typical iteration counter\n",
    "\n",
    "    min_regret_array = None\n",
    "\n",
    "    # performs GP regression for all elements in unmeasured_samples\n",
    "\n",
    "    while unmeasured_samples.size > 0:\n",
    "\n",
    "        # prints regression plot and measures of central tendency\n",
    "        m2, mean_unmeasured, variance_unmeasured, mean_total = GP_regression(measured_samples, total_samples, unmeasured_samples)\n",
    "\n",
    "        # gets new maximum upper confidence bound on every loop\n",
    "        upper_confidence_index = get_upper_confidence_index(mean_unmeasured, variance_unmeasured, iteration_counter_1)\n",
    "        upper_confidence_xy = np.array([unmeasured_samples[upper_confidence_index]]) # x- and y-values (two columns)\n",
    "\n",
    "        # adds value with maximum upper confidence bound to measured_samples\n",
    "        # deletes value with maximum upper confidence bound from unmeasured_samples\n",
    "        measured_samples = np.concatenate((measured_samples, upper_confidence_xy))\n",
    "        unmeasured_samples = np.delete(unmeasured_samples, upper_confidence_index, 0)\n",
    "\n",
    "        # gets minimum regret\n",
    "        min_regret = get_min_regret(total_samples.max(), measured_samples)\n",
    "        min_regret_array = np.append(min_regret_array, min_regret) # array of all minimum regrets\n",
    "\n",
    "        iteration_counter_0_array = np.append(iteration_counter_0_array, iteration_counter_1 - 1) # tallies iterations\n",
    "        iteration_counter_1 = iteration_counter_1 + 1\n",
    "    \n",
    "    min_regret_array_total[row_iteration_counter] = min_regret_array\n",
    "    \n",
    "    row_iteration_counter = row_iteration_counter + 1"
   ]
  },
  {
   "cell_type": "code",
   "execution_count": 58,
   "metadata": {},
   "outputs": [],
   "source": [
    "column_iteration_counter = 1"
   ]
  },
  {
   "cell_type": "code",
   "execution_count": 59,
   "metadata": {},
   "outputs": [],
   "source": [
    "column_sum = 0"
   ]
  },
  {
   "cell_type": "code",
   "execution_count": 60,
   "metadata": {},
   "outputs": [],
   "source": [
    "min_regret_array_mean = np.zeros(shape = (1, row_iteration_total))"
   ]
  },
  {
   "cell_type": "code",
   "execution_count": 61,
   "metadata": {},
   "outputs": [],
   "source": [
    "while column_iteration_counter < 6:\n",
    "    for item in min_regret_array_total:  \n",
    "        column_sum = column_sum + item[column_iteration_counter]\n",
    "\n",
    "    column_mean = column_sum / 5\n",
    "    \n",
    "    min_regret_array_mean[:, column_iteration_counter - 1] = column_mean\n",
    "    \n",
    "    column_iteration_counter = column_iteration_counter + 1"
   ]
  },
  {
   "cell_type": "code",
   "execution_count": 62,
   "metadata": {},
   "outputs": [
    {
     "name": "stdout",
     "output_type": "stream",
     "text": [
      "[[0.66 1.06 1.46 1.86 2.1 ]]\n"
     ]
    }
   ],
   "source": [
    "print(min_regret_array_mean)"
   ]
  }
 ],
 "metadata": {
  "kernelspec": {
   "display_name": "Python 3",
   "language": "python",
   "name": "python3"
  },
  "language_info": {
   "codemirror_mode": {
    "name": "ipython",
    "version": 3
   },
   "file_extension": ".py",
   "mimetype": "text/x-python",
   "name": "python",
   "nbconvert_exporter": "python",
   "pygments_lexer": "ipython3",
   "version": "3.7.3"
  },
  "varInspector": {
   "cols": {
    "lenName": 16,
    "lenType": 16,
    "lenVar": 40
   },
   "kernels_config": {
    "python": {
     "delete_cmd_postfix": "",
     "delete_cmd_prefix": "del ",
     "library": "var_list.py",
     "varRefreshCmd": "print(var_dic_list())"
    },
    "r": {
     "delete_cmd_postfix": ") ",
     "delete_cmd_prefix": "rm(",
     "library": "var_list.r",
     "varRefreshCmd": "cat(var_dic_list()) "
    }
   },
   "position": {
    "height": "257.12px",
    "left": "572.87px",
    "right": "20px",
    "top": "45.9px",
    "width": "631px"
   },
   "types_to_exclude": [
    "module",
    "function",
    "builtin_function_or_method",
    "instance",
    "_Feature"
   ],
   "window_display": true
  }
 },
 "nbformat": 4,
 "nbformat_minor": 2
}
